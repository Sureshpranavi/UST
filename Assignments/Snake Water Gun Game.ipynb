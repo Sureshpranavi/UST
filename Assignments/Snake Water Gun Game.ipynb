{
 "cells": [
  {
   "cell_type": "code",
   "execution_count": 2,
   "id": "8139baaa",
   "metadata": {},
   "outputs": [
    {
     "name": "stdout",
     "output_type": "stream",
     "text": [
      "\n",
      "\n",
      "**************************************************\n",
      "\t Welcome all to Snake Water Game\n",
      "**************************************************\n",
      "\n",
      "\n",
      "enter the player name 1 = suresh\n",
      "enter the player name 2 = manu\n",
      "\n",
      "Select your Choices : \n",
      " Snake\n",
      " Water\n",
      " Gun\n",
      "\n",
      "enter p1 the Choice =Water\n",
      "enter p2 the Choice =Gun\n",
      "manu win the game with choice of  Gun\n"
     ]
    }
   ],
   "source": [
    "print(\"\\n\")\n",
    "\n",
    "print(\"*\"*50)\n",
    "print(\"\\t Welcome all to Snake Water Game\")\n",
    "print(\"*\"*50)\n",
    "print(\"\\n\")\n",
    "player1=input(\"enter the player name 1 = \")\n",
    "player2=input(\"enter the player name 2 = \")\n",
    "\n",
    "\n",
    "\n",
    "print( \"\\nSelect your Choices : \\n Snake\\n Water\\n Gun\\n\")\n",
    "p1_choice=input(\"enter p1 the Choice =\")\n",
    "p2_choice=input(\"enter p2 the Choice =\")\n",
    "   \n",
    "\n",
    "if(p1_choice==\"Gun\" and p2_choice==\"Snake\"):\n",
    "    print(player1,\"win the game with choice of \",p1_choice)\n",
    "        \n",
    "        \n",
    "elif(p1_choice==\"Water\" and p2_choice==\"Gun\"):\n",
    "    print(player2,\"win the game with choice of \",p2_choice)\n",
    "    \n",
    "        \n",
    "elif(p1_choice==p2_choice):\n",
    "    print(\"Game was Tie , both selected option : \",p1_choice)\n",
    "        \n",
    "\n"
   ]
  },
  {
   "cell_type": "code",
   "execution_count": null,
   "id": "2e41aa0a",
   "metadata": {},
   "outputs": [],
   "source": []
  }
 ],
 "metadata": {
  "kernelspec": {
   "display_name": "Python 3 (ipykernel)",
   "language": "python",
   "name": "python3"
  },
  "language_info": {
   "codemirror_mode": {
    "name": "ipython",
    "version": 3
   },
   "file_extension": ".py",
   "mimetype": "text/x-python",
   "name": "python",
   "nbconvert_exporter": "python",
   "pygments_lexer": "ipython3",
   "version": "3.9.12"
  }
 },
 "nbformat": 4,
 "nbformat_minor": 5
}
